{
 "cells": [
  {
   "cell_type": "markdown",
   "metadata": {},
   "source": [
    "# Python基础"
   ]
  },
  {
   "cell_type": "markdown",
   "metadata": {},
   "source": [
    "## 1. Python语言基础"
   ]
  },
  {
   "cell_type": "markdown",
   "metadata": {},
   "source": [
    "### 1.1. 建议使用jupyter notebook\n",
    "优点2：交互式展现所有结果："
   ]
  },
  {
   "cell_type": "code",
   "execution_count": 7,
   "metadata": {},
   "outputs": [
    {
     "name": "stdout",
     "output_type": "stream",
     "text": [
      "hello world!\n",
      "786\n"
     ]
    }
   ],
   "source": [
    "print(\"hello world!\")\n",
    "\n",
    "\n",
    "a=786\n",
    "print(a)"
   ]
  },
  {
   "cell_type": "markdown",
   "metadata": {},
   "source": [
    "### 1.2. Python条件与循环语句\n",
    "![条件与循环语句要点归纳：](条件与循环要点归纳.webp \"optional title\")"
   ]
  },
  {
   "cell_type": "markdown",
   "metadata": {},
   "source": [
    "### 1.3. Python数据类型\n",
    "![条件与循环语句要点归纳：](数据类型.webp \"optional title\")"
   ]
  },
  {
   "cell_type": "markdown",
   "metadata": {},
   "source": [
    "### 1.3. Python中的list"
   ]
  },
  {
   "cell_type": "markdown",
   "metadata": {},
   "source": [
    "Python内置的一种数据类型是列表：list。list是一种有序的集合，可以随时添加和删除其中的元素。\n",
    "\n",
    "比如，列出班里所有同学的名字，就可以用一个list表示：\n",
    "```python\n",
    "['Michael', 'Bob', 'Tracy']\n",
    "```\n",
    "\n",
    "list是数学意义上的有序集合，也就是说，**list中的元素是按照顺序排列的**。\n",
    "\n",
    "构造list非常简单，直接用 [ ] 把list的所有元素都括起来，就是一个list对象。通常，我们会把list赋值给一个变量，这样，就可以通过变量来引用list：\n",
    "```python\n",
    "classmates = ['Michael', 'Bob', 'Tracy']\n",
    "```\n",
    "\n",
    "**获取list长度**："
   ]
  },
  {
   "cell_type": "code",
   "execution_count": 8,
   "metadata": {},
   "outputs": [
    {
     "name": "stdout",
     "output_type": "stream",
     "text": [
      "lichao\n",
      "yangjiao\n",
      "wangyalu\n"
     ]
    },
    {
     "data": {
      "text/plain": [
       "\"\\nclassmates[0] = 'guojiansheng'\\nlen(classmates)\\nprint(classmates)\\n\""
      ]
     },
     "execution_count": 8,
     "metadata": {},
     "output_type": "execute_result"
    }
   ],
   "source": [
    "a1 = \"lichao\"\n",
    "a2 = \"sjds\"\n",
    "classmates = ('lichao','yangjiao','wangyalu','huang')\n",
    "print(classmates[0])\n",
    "print(classmates[1])\n",
    "print(classmates[2])\n",
    "\n",
    "#classmates[0] = 'guojiansheng'\n",
    "\n",
    "'''\n",
    "classmates[0] = 'guojiansheng'\n",
    "len(classmates)\n",
    "print(classmates)\n",
    "'''    "
   ]
  },
  {
   "cell_type": "markdown",
   "metadata": {},
   "source": [
    "**list的切片方法**："
   ]
  },
  {
   "cell_type": "code",
   "execution_count": 3,
   "metadata": {},
   "outputs": [
    {
     "data": {
      "text/plain": [
       "['E', 'F']"
      ]
     },
     "execution_count": 3,
     "metadata": {},
     "output_type": "execute_result"
    }
   ],
   "source": [
    "#classmates\n",
    "\n",
    "l = ['A', 'B', 'C', 'D', 'E', 'F', 'G']\n",
    "#    0     1    2    3    4    5    6\n",
    "l[0:3]\n",
    "l[2:4]\n",
    "l[-3:-1]"
   ]
  },
  {
   "cell_type": "markdown",
   "metadata": {},
   "source": [
    "**往list追加元素**："
   ]
  },
  {
   "cell_type": "code",
   "execution_count": 4,
   "metadata": {},
   "outputs": [
    {
     "name": "stdout",
     "output_type": "stream",
     "text": [
      "['A', 'B', 'C', 'D', 'E', 'F', 'G', 'Peter']\n"
     ]
    }
   ],
   "source": [
    "l.append('Peter')\n",
    "print(l)"
   ]
  },
  {
   "cell_type": "markdown",
   "metadata": {},
   "source": [
    "也可以往list的指定位置加入元素，所使用的函数是**insert函数**，语法如下："
   ]
  },
  {
   "cell_type": "code",
   "execution_count": 5,
   "metadata": {},
   "outputs": [
    {
     "name": "stdout",
     "output_type": "stream",
     "text": [
      "['A', 'B', 'C', 'D', 'E', 'eee', 'F', 'G', 'Peter']\n"
     ]
    }
   ],
   "source": [
    "l.insert(5, 'eee')\n",
    "print(l)"
   ]
  },
  {
   "cell_type": "markdown",
   "metadata": {},
   "source": [
    "**删除list里面的元素**：\n",
    "\n",
    "要删除list**末尾**的元素，用pop()方法： ```list_name.pop()```。\n",
    "\n",
    "如果要删除指定位置的元素，用pop(i)方法，其中i是索引位置："
   ]
  },
  {
   "cell_type": "code",
   "execution_count": 6,
   "metadata": {},
   "outputs": [
    {
     "data": {
      "text/plain": [
       "'C'"
      ]
     },
     "execution_count": 6,
     "metadata": {},
     "output_type": "execute_result"
    }
   ],
   "source": [
    "l.pop(2)"
   ]
  },
  {
   "cell_type": "markdown",
   "metadata": {},
   "source": [
    "**range函数**：\n",
    "\n",
    "返回的就是list，```range(stop)```，或者 ```range(start=0,stop[,step=1])```。\n",
    "\n",
    "默认的起始值start是0，结束是stop（不包含），步长step值是1，例如：```list1 = range(10)```，生成一个0-9的序列。"
   ]
  },
  {
   "cell_type": "markdown",
   "metadata": {},
   "source": [
    "**list其他用法：**"
   ]
  },
  {
   "cell_type": "code",
   "execution_count": 12,
   "metadata": {},
   "outputs": [
    {
     "name": "stdout",
     "output_type": "stream",
     "text": [
      "和是 : 66.0\n"
     ]
    }
   ],
   "source": [
    "a = float(input(\"First : \"))\n",
    "b = float(input(\"Second: \"))\n",
    "sum = a+b\n",
    "print(\"和是 : \"+ str(sum))"
   ]
  },
  {
   "cell_type": "markdown",
   "metadata": {},
   "source": [
    "做一个小测试"
   ]
  },
  {
   "cell_type": "markdown",
   "metadata": {},
   "source": [
    "![jupyter](./测试1.png)"
   ]
  },
  {
   "cell_type": "markdown",
   "metadata": {},
   "source": [
    "## 2. 第三方模块与包的使用"
   ]
  },
  {
   "cell_type": "markdown",
   "metadata": {},
   "source": [
    "![条件与循环语句要点归纳：](模块与包.webp \"optional title\")"
   ]
  },
  {
   "cell_type": "code",
   "execution_count": null,
   "metadata": {},
   "outputs": [],
   "source": []
  },
  {
   "cell_type": "markdown",
   "metadata": {},
   "source": [
    "### 2.1. NumPy库操作\n",
    "\n",
    "NumPy是Python中科学计算的基础包。它是一个Python库，提供多维数组对象，各种派生对象（如掩码数组和矩阵），以及用于数组快速操作的各种例程，包括数学，逻辑，形状操作，排序，选择，I / O离散傅立叶变换，基本线性代数，基本统计运算，随机模拟等等。"
   ]
  },
  {
   "cell_type": "markdown",
   "metadata": {},
   "source": [
    "**一个NumPy操作实例：**"
   ]
  },
  {
   "cell_type": "code",
   "execution_count": 8,
   "metadata": {},
   "outputs": [
    {
     "data": {
      "text/plain": [
       "(2, (2, 4), 8, dtype('int32'))"
      ]
     },
     "execution_count": 8,
     "metadata": {},
     "output_type": "execute_result"
    }
   ],
   "source": [
    "import numpy as np\n",
    "a=np.array([[1,3,5,7],[2,4,6,8]])\n",
    "a\n",
    "a.ndim, a.shape, a.size, a.dtype"
   ]
  },
  {
   "cell_type": "markdown",
   "metadata": {},
   "source": [
    "**通过list创建矩阵：**"
   ]
  },
  {
   "cell_type": "code",
   "execution_count": 9,
   "metadata": {},
   "outputs": [
    {
     "name": "stdout",
     "output_type": "stream",
     "text": [
      "[1, 2, 3]\n",
      "[1 2 3]\n",
      "<class 'list'>\n",
      "<class 'numpy.ndarray'>\n"
     ]
    }
   ],
   "source": [
    "import numpy as np \n",
    " \n",
    "x =  [1,2,3] \n",
    "a = np.asarray(x)  \n",
    "print(x)\n",
    "print(a)\n",
    "print(type(x))\n",
    "print(type(a))"
   ]
  },
  {
   "cell_type": "markdown",
   "metadata": {},
   "source": [
    "**通过```arange```函数创建矩阵**："
   ]
  },
  {
   "cell_type": "code",
   "execution_count": 10,
   "metadata": {},
   "outputs": [
    {
     "name": "stdout",
     "output_type": "stream",
     "text": [
      "[0 1 2 3 4 5 6 7 8 9]\n",
      "[5 6 7 8 9]\n",
      "[ 5  7  9 11 13 15 17 19]\n"
     ]
    }
   ],
   "source": [
    "import numpy as np\n",
    "\n",
    "a = np.arange(10) # 默认从0开始到10（不包括10），步长为1\n",
    "print(a) # 返回 [0 1 2 3 4 5 6 7 8 9]\n",
    "\n",
    "a1 = np.arange(5,10) # 从5开始到10（不包括10），步长为1\n",
    "print(a1) # 返回 [5 6 7 8 9]\n",
    "\n",
    "a2 = np.arange(5,20,2) # 从5开始到20（不包括20），步长为2\n",
    "print(a2) # 返回 [ 5  7  9 11 13 15 17 19]"
   ]
  },
  {
   "cell_type": "markdown",
   "metadata": {},
   "source": [
    "**通过```linspace```创建矩阵**：\n",
    "\n",
    "linspace()和matlab的linspace很类似，用于创建指定数量等间隔的序列，实际生成一个等差数列。"
   ]
  },
  {
   "cell_type": "code",
   "execution_count": 24,
   "metadata": {},
   "outputs": [
    {
     "name": "stdout",
     "output_type": "stream",
     "text": [
      "[ 0.   2.5  5.   7.5 10. ]\n"
     ]
    }
   ],
   "source": [
    "import numpy as np\n",
    " \n",
    "a = np.linspace(0,10,5) # 生成首位是0，末位是10，含5个数的等差数列\n",
    "print(a) "
   ]
  },
  {
   "cell_type": "markdown",
   "metadata": {},
   "source": [
    "**```ones,zeros,eye,empty```**函数创建矩阵：\n",
    "\n",
    "```ones```创建全1矩阵 \n",
    "\n",
    "```zeros```创建全0矩阵 \n",
    "\n",
    "```eye```创建单位矩阵 \n",
    "\n",
    "```empty```创建空矩阵（实际有值）"
   ]
  },
  {
   "cell_type": "code",
   "execution_count": 25,
   "metadata": {},
   "outputs": [
    {
     "name": "stdout",
     "output_type": "stream",
     "text": [
      "[[1. 1. 1. 1.]\n",
      " [1. 1. 1. 1.]\n",
      " [1. 1. 1. 1.]]\n",
      "[[0. 0. 0. 0.]\n",
      " [0. 0. 0. 0.]\n",
      " [0. 0. 0. 0.]]\n",
      "[[1. 0. 0.]\n",
      " [0. 1. 0.]\n",
      " [0. 0. 1.]]\n",
      "[[0. 0. 0. 0.]\n",
      " [0. 0. 0. 0.]\n",
      " [0. 0. 0. 0.]]\n"
     ]
    }
   ],
   "source": [
    "import numpy as np\n",
    "\n",
    "a_ones = np.ones((3,4)) # 创建3*4的全1矩阵\n",
    "print(a_ones)\n",
    "# 结果\n",
    "#[[ 1.  1.  1.  1.]\n",
    "# [ 1.  1.  1.  1.]\n",
    "# [ 1.  1.  1.  1.]]\n",
    "\n",
    "a_zeros = np.zeros((3,4)) # 创建3*4的全0矩阵\n",
    "print(a_zeros)\n",
    "# 结果\n",
    "#[[ 0.  0.  0.  0.]\n",
    "# [ 0.  0.  0.  0.]\n",
    "# [ 0.  0.  0.  0.]]\n",
    "\n",
    "a_eye = np.eye(3) # 创建3阶单位矩阵\n",
    "print(a_eye)\n",
    "# 结果\n",
    "#[ 1.  0.  0.]\n",
    "# [ 0.  1.  0.]\n",
    "# [ 0.  0.  1.]]\n",
    "\n",
    "a_empty = np.empty((3,4)) # 创建3*4的空矩阵\n",
    "print(a_empty)"
   ]
  },
  {
   "cell_type": "markdown",
   "metadata": {},
   "source": [
    "**矩阵的最大值和最小值**：\n",
    "\n",
    "获得矩阵中元素最大最小值的函数分别是```max```和```min```，可以获得整个矩阵、行或列的最大最小值。 "
   ]
  },
  {
   "cell_type": "code",
   "execution_count": 34,
   "metadata": {},
   "outputs": [
    {
     "name": "stdout",
     "output_type": "stream",
     "text": [
      "11\n",
      "1\n"
     ]
    }
   ],
   "source": [
    "import numpy as np\n",
    "\n",
    "array=np.array([[1,2,11],\n",
    "                [4,5,8]])\n",
    "\n",
    "print(array.max())#结果为6\n",
    "print(array.min())#结果为1"
   ]
  },
  {
   "cell_type": "markdown",
   "metadata": {},
   "source": [
    "同时还可以指定```axis```关键字，获取行或列的最大、最小值："
   ]
  },
  {
   "cell_type": "code",
   "execution_count": 35,
   "metadata": {},
   "outputs": [
    {
     "name": "stdout",
     "output_type": "stream",
     "text": [
      "[ 4  5 11]\n"
     ]
    }
   ],
   "source": [
    "print(array.max(axis=0)) #x轴最大值，0,1分别代表行列"
   ]
  },
  {
   "cell_type": "markdown",
   "metadata": {},
   "source": [
    "**平均值**：\n",
    "\n",
    "获得矩阵中元素的平均值可以通过函数```mean()```或```average()```。同样地，可以获得整个矩阵、行或列的平均值："
   ]
  },
  {
   "cell_type": "code",
   "execution_count": 36,
   "metadata": {},
   "outputs": [
    {
     "name": "stdout",
     "output_type": "stream",
     "text": [
      "3.5\n",
      "3.5\n",
      "[2.5 3.5 4.5]\n"
     ]
    }
   ],
   "source": [
    "import numpy as np\n",
    "array=np.array([[1,2,3],\n",
    "                [4,5,6]])\n",
    "\n",
    "# 求矩阵平均值可以如下两个方法：\n",
    "print(array.mean())#结果为3.5\n",
    "print(np.average(array))#结果为3.5\n",
    "\n",
    "print(array.mean(axis=0))#行方向的平均值，同样，0,1代表维度"
   ]
  },
  {
   "cell_type": "markdown",
   "metadata": {},
   "source": [
    "### 2.2. Pandas常用操作"
   ]
  },
  {
   "cell_type": "markdown",
   "metadata": {},
   "source": [
    "Pandas 是 Python 的核心数据分析支持库，提供了快速、灵活、明确的数据结构，旨在简单、直观地处理关系型、标记型数据。\n",
    "\n",
    "Pandas 适用于处理以下类型的数据：  \n",
    "* 与SQL或Excel表类似的，含异构列的表格数据;  \n",
    "* 有序和无序（非固定频率）的时间序列数据;  \n",
    "* 带行列标签的矩阵数据，包括同构或异构型数据;  \n",
    "* 任意其它形式的观测、统计数据集, 数据转入 Pandas 数据结构时不必事先标记。\n",
    "\n",
    "**pandas基本数据结构**：\n",
    "\n",
    "目前，pandas的基本数据结构有3种，Series,DataFrame和Pandel。\n",
    "\n",
    "要想熟练使用Pandas,这三种数据结构一定要牢记于心。\n",
    "\n",
    "其中DataFrame使用频率最高。\n",
    "\n",
    "<table><tr><th style=\"text-align:center;\">数据结构</th><th  style=\"text-align:center;\">维度</th><th style=\"text-align:center;\">轴标签</th></tr><tbody><tr><td  style=\"text-align:center;\">Series</td><td  style=\"text-align:center;\">一维</td><td  style=\"text-align:center;\">index(唯一的行)</td></tr><tr><td style=\"text-align:center;\">DataFrame</td><td  style=\"text-align:center;\">二维</td><td style=\"text-align:center;\">index(行)和columns(列)</td></tr><tr><td>Pandel</td><td>三维</td><td>items major_axis和minor_axis</td></tr></tbody></table>"
   ]
  },
  {
   "cell_type": "markdown",
   "metadata": {},
   "source": [
    "**Pandas读取csv文件**：\n"
   ]
  },
  {
   "cell_type": "code",
   "execution_count": 15,
   "metadata": {},
   "outputs": [
    {
     "data": {
      "text/html": [
       "<div>\n",
       "<style scoped>\n",
       "    .dataframe tbody tr th:only-of-type {\n",
       "        vertical-align: middle;\n",
       "    }\n",
       "\n",
       "    .dataframe tbody tr th {\n",
       "        vertical-align: top;\n",
       "    }\n",
       "\n",
       "    .dataframe thead th {\n",
       "        text-align: right;\n",
       "    }\n",
       "</style>\n",
       "<table border=\"1\" class=\"dataframe\">\n",
       "  <thead>\n",
       "    <tr style=\"text-align: right;\">\n",
       "      <th></th>\n",
       "      <th>name</th>\n",
       "      <th>age</th>\n",
       "      <th>grade</th>\n",
       "      <th>gender</th>\n",
       "      <th>height</th>\n",
       "    </tr>\n",
       "  </thead>\n",
       "  <tbody>\n",
       "    <tr>\n",
       "      <th>0</th>\n",
       "      <td>Lisa</td>\n",
       "      <td>9</td>\n",
       "      <td>2.0</td>\n",
       "      <td>M</td>\n",
       "      <td>1.1</td>\n",
       "    </tr>\n",
       "    <tr>\n",
       "      <th>1</th>\n",
       "      <td>Ken</td>\n",
       "      <td>80</td>\n",
       "      <td>3.0</td>\n",
       "      <td>F</td>\n",
       "      <td>1.7</td>\n",
       "    </tr>\n",
       "    <tr>\n",
       "      <th>2</th>\n",
       "      <td>Ursus</td>\n",
       "      <td>29</td>\n",
       "      <td>3.3</td>\n",
       "      <td>M</td>\n",
       "      <td>1.6</td>\n",
       "    </tr>\n",
       "    <tr>\n",
       "      <th>3</th>\n",
       "      <td>Carson</td>\n",
       "      <td>2</td>\n",
       "      <td>4.0</td>\n",
       "      <td>M</td>\n",
       "      <td>0.6</td>\n",
       "    </tr>\n",
       "    <tr>\n",
       "      <th>4</th>\n",
       "      <td>Dickens</td>\n",
       "      <td>33</td>\n",
       "      <td>5.0</td>\n",
       "      <td>F</td>\n",
       "      <td>1.9</td>\n",
       "    </tr>\n",
       "    <tr>\n",
       "      <th>5</th>\n",
       "      <td>Lucas</td>\n",
       "      <td>20</td>\n",
       "      <td>1.1</td>\n",
       "      <td>M</td>\n",
       "      <td>1.7</td>\n",
       "    </tr>\n",
       "    <tr>\n",
       "      <th>6</th>\n",
       "      <td>Alfred</td>\n",
       "      <td>1</td>\n",
       "      <td>1.0</td>\n",
       "      <td>M</td>\n",
       "      <td>0.3</td>\n",
       "    </tr>\n",
       "    <tr>\n",
       "      <th>7</th>\n",
       "      <td>Howard</td>\n",
       "      <td>22</td>\n",
       "      <td>5.0</td>\n",
       "      <td>M</td>\n",
       "      <td>2.0</td>\n",
       "    </tr>\n",
       "  </tbody>\n",
       "</table>\n",
       "</div>"
      ],
      "text/plain": [
       "      name  age  grade gender  height\n",
       "0     Lisa    9    2.0      M     1.1\n",
       "1      Ken   80    3.0      F     1.7\n",
       "2    Ursus   29    3.3      M     1.6\n",
       "3   Carson    2    4.0      M     0.6\n",
       "4  Dickens   33    5.0      F     1.9\n",
       "5    Lucas   20    1.1      M     1.7\n",
       "6   Alfred    1    1.0      M     0.3\n",
       "7   Howard   22    5.0      M     2.0"
      ]
     },
     "execution_count": 15,
     "metadata": {},
     "output_type": "execute_result"
    }
   ],
   "source": [
    "import pandas as pd\n",
    "\n",
    "df = pd.read_csv(\"info.csv\")\n",
    "df"
   ]
  },
  {
   "cell_type": "markdown",
   "metadata": {},
   "source": [
    "**查看dataframe的信息**:"
   ]
  },
  {
   "cell_type": "code",
   "execution_count": 38,
   "metadata": {},
   "outputs": [
    {
     "name": "stdout",
     "output_type": "stream",
     "text": [
      "<class 'pandas.core.frame.DataFrame'>\n",
      "RangeIndex: 8 entries, 0 to 7\n",
      "Data columns (total 5 columns):\n",
      " #   Column  Non-Null Count  Dtype  \n",
      "---  ------  --------------  -----  \n",
      " 0   name    8 non-null      object \n",
      " 1   age     8 non-null      int64  \n",
      " 2   grade   8 non-null      float64\n",
      " 3   gender  8 non-null      object \n",
      " 4   height  8 non-null      float64\n",
      "dtypes: float64(2), int64(1), object(2)\n",
      "memory usage: 448.0+ bytes\n"
     ]
    },
    {
     "data": {
      "text/html": [
       "<div>\n",
       "<style scoped>\n",
       "    .dataframe tbody tr th:only-of-type {\n",
       "        vertical-align: middle;\n",
       "    }\n",
       "\n",
       "    .dataframe tbody tr th {\n",
       "        vertical-align: top;\n",
       "    }\n",
       "\n",
       "    .dataframe thead th {\n",
       "        text-align: right;\n",
       "    }\n",
       "</style>\n",
       "<table border=\"1\" class=\"dataframe\">\n",
       "  <thead>\n",
       "    <tr style=\"text-align: right;\">\n",
       "      <th></th>\n",
       "      <th>age</th>\n",
       "      <th>grade</th>\n",
       "      <th>height</th>\n",
       "    </tr>\n",
       "  </thead>\n",
       "  <tbody>\n",
       "    <tr>\n",
       "      <th>count</th>\n",
       "      <td>8.000000</td>\n",
       "      <td>8.00000</td>\n",
       "      <td>8.00000</td>\n",
       "    </tr>\n",
       "    <tr>\n",
       "      <th>mean</th>\n",
       "      <td>24.500000</td>\n",
       "      <td>3.05000</td>\n",
       "      <td>1.36250</td>\n",
       "    </tr>\n",
       "    <tr>\n",
       "      <th>std</th>\n",
       "      <td>25.348993</td>\n",
       "      <td>1.58925</td>\n",
       "      <td>0.62778</td>\n",
       "    </tr>\n",
       "    <tr>\n",
       "      <th>min</th>\n",
       "      <td>1.000000</td>\n",
       "      <td>1.00000</td>\n",
       "      <td>0.30000</td>\n",
       "    </tr>\n",
       "    <tr>\n",
       "      <th>25%</th>\n",
       "      <td>7.250000</td>\n",
       "      <td>1.77500</td>\n",
       "      <td>0.97500</td>\n",
       "    </tr>\n",
       "    <tr>\n",
       "      <th>50%</th>\n",
       "      <td>21.000000</td>\n",
       "      <td>3.15000</td>\n",
       "      <td>1.65000</td>\n",
       "    </tr>\n",
       "    <tr>\n",
       "      <th>75%</th>\n",
       "      <td>30.000000</td>\n",
       "      <td>4.25000</td>\n",
       "      <td>1.75000</td>\n",
       "    </tr>\n",
       "    <tr>\n",
       "      <th>max</th>\n",
       "      <td>80.000000</td>\n",
       "      <td>5.00000</td>\n",
       "      <td>2.00000</td>\n",
       "    </tr>\n",
       "  </tbody>\n",
       "</table>\n",
       "</div>"
      ],
      "text/plain": [
       "             age    grade   height\n",
       "count   8.000000  8.00000  8.00000\n",
       "mean   24.500000  3.05000  1.36250\n",
       "std    25.348993  1.58925  0.62778\n",
       "min     1.000000  1.00000  0.30000\n",
       "25%     7.250000  1.77500  0.97500\n",
       "50%    21.000000  3.15000  1.65000\n",
       "75%    30.000000  4.25000  1.75000\n",
       "max    80.000000  5.00000  2.00000"
      ]
     },
     "execution_count": 38,
     "metadata": {},
     "output_type": "execute_result"
    }
   ],
   "source": [
    "df.info()        # 数据类型，内存消耗等信息\n",
    "df.describe()    # 统计特征，均值方差等"
   ]
  },
  {
   "cell_type": "markdown",
   "metadata": {},
   "source": [
    "**排序操作**：\n",
    "\n",
    "对数据进行排序，用到了```sort_values```，```by```参数可以指定根据哪一列数据进行排序，```ascending```是设置升序和降序。"
   ]
  },
  {
   "cell_type": "code",
   "execution_count": 17,
   "metadata": {},
   "outputs": [
    {
     "data": {
      "text/html": [
       "<div>\n",
       "<style scoped>\n",
       "    .dataframe tbody tr th:only-of-type {\n",
       "        vertical-align: middle;\n",
       "    }\n",
       "\n",
       "    .dataframe tbody tr th {\n",
       "        vertical-align: top;\n",
       "    }\n",
       "\n",
       "    .dataframe thead th {\n",
       "        text-align: right;\n",
       "    }\n",
       "</style>\n",
       "<table border=\"1\" class=\"dataframe\">\n",
       "  <thead>\n",
       "    <tr style=\"text-align: right;\">\n",
       "      <th></th>\n",
       "      <th>name</th>\n",
       "      <th>age</th>\n",
       "      <th>grade</th>\n",
       "      <th>gender</th>\n",
       "      <th>height</th>\n",
       "    </tr>\n",
       "  </thead>\n",
       "  <tbody>\n",
       "    <tr>\n",
       "      <th>6</th>\n",
       "      <td>Alfred</td>\n",
       "      <td>1</td>\n",
       "      <td>1.0</td>\n",
       "      <td>M</td>\n",
       "      <td>0.3</td>\n",
       "    </tr>\n",
       "    <tr>\n",
       "      <th>3</th>\n",
       "      <td>Carson</td>\n",
       "      <td>2</td>\n",
       "      <td>4.0</td>\n",
       "      <td>M</td>\n",
       "      <td>0.6</td>\n",
       "    </tr>\n",
       "    <tr>\n",
       "      <th>0</th>\n",
       "      <td>Lisa</td>\n",
       "      <td>9</td>\n",
       "      <td>2.0</td>\n",
       "      <td>M</td>\n",
       "      <td>1.1</td>\n",
       "    </tr>\n",
       "    <tr>\n",
       "      <th>5</th>\n",
       "      <td>Lucas</td>\n",
       "      <td>20</td>\n",
       "      <td>1.1</td>\n",
       "      <td>M</td>\n",
       "      <td>1.7</td>\n",
       "    </tr>\n",
       "    <tr>\n",
       "      <th>7</th>\n",
       "      <td>Howard</td>\n",
       "      <td>22</td>\n",
       "      <td>5.0</td>\n",
       "      <td>M</td>\n",
       "      <td>2.0</td>\n",
       "    </tr>\n",
       "    <tr>\n",
       "      <th>2</th>\n",
       "      <td>Ursus</td>\n",
       "      <td>29</td>\n",
       "      <td>3.3</td>\n",
       "      <td>M</td>\n",
       "      <td>1.6</td>\n",
       "    </tr>\n",
       "    <tr>\n",
       "      <th>4</th>\n",
       "      <td>Dickens</td>\n",
       "      <td>33</td>\n",
       "      <td>5.0</td>\n",
       "      <td>F</td>\n",
       "      <td>1.9</td>\n",
       "    </tr>\n",
       "    <tr>\n",
       "      <th>1</th>\n",
       "      <td>Ken</td>\n",
       "      <td>80</td>\n",
       "      <td>3.0</td>\n",
       "      <td>F</td>\n",
       "      <td>1.7</td>\n",
       "    </tr>\n",
       "  </tbody>\n",
       "</table>\n",
       "</div>"
      ],
      "text/plain": [
       "      name  age  grade gender  height\n",
       "6   Alfred    1    1.0      M     0.3\n",
       "3   Carson    2    4.0      M     0.6\n",
       "0     Lisa    9    2.0      M     1.1\n",
       "5    Lucas   20    1.1      M     1.7\n",
       "7   Howard   22    5.0      M     2.0\n",
       "2    Ursus   29    3.3      M     1.6\n",
       "4  Dickens   33    5.0      F     1.9\n",
       "1      Ken   80    3.0      F     1.7"
      ]
     },
     "execution_count": 17,
     "metadata": {},
     "output_type": "execute_result"
    }
   ],
   "source": [
    "df.sort_values(by = 'age', ascending = True)"
   ]
  },
  {
   "cell_type": "markdown",
   "metadata": {},
   "source": [
    "**选取特定的行、列**:\n",
    "\n",
    "使用```loc```函数。\n",
    "\n",
    "用```loc```函数的第一个参数代表行，第二个参数代表列。"
   ]
  },
  {
   "cell_type": "code",
   "execution_count": 42,
   "metadata": {},
   "outputs": [
    {
     "data": {
      "text/html": [
       "<div>\n",
       "<style scoped>\n",
       "    .dataframe tbody tr th:only-of-type {\n",
       "        vertical-align: middle;\n",
       "    }\n",
       "\n",
       "    .dataframe tbody tr th {\n",
       "        vertical-align: top;\n",
       "    }\n",
       "\n",
       "    .dataframe thead th {\n",
       "        text-align: right;\n",
       "    }\n",
       "</style>\n",
       "<table border=\"1\" class=\"dataframe\">\n",
       "  <thead>\n",
       "    <tr style=\"text-align: right;\">\n",
       "      <th></th>\n",
       "      <th>name</th>\n",
       "      <th>age</th>\n",
       "      <th>grade</th>\n",
       "      <th>gender</th>\n",
       "    </tr>\n",
       "  </thead>\n",
       "  <tbody>\n",
       "    <tr>\n",
       "      <th>0</th>\n",
       "      <td>Lisa</td>\n",
       "      <td>9</td>\n",
       "      <td>2.0</td>\n",
       "      <td>M</td>\n",
       "    </tr>\n",
       "    <tr>\n",
       "      <th>1</th>\n",
       "      <td>Ken</td>\n",
       "      <td>80</td>\n",
       "      <td>3.0</td>\n",
       "      <td>F</td>\n",
       "    </tr>\n",
       "    <tr>\n",
       "      <th>2</th>\n",
       "      <td>Ursus</td>\n",
       "      <td>29</td>\n",
       "      <td>3.3</td>\n",
       "      <td>M</td>\n",
       "    </tr>\n",
       "    <tr>\n",
       "      <th>3</th>\n",
       "      <td>Carson</td>\n",
       "      <td>2</td>\n",
       "      <td>4.0</td>\n",
       "      <td>M</td>\n",
       "    </tr>\n",
       "    <tr>\n",
       "      <th>4</th>\n",
       "      <td>Dickens</td>\n",
       "      <td>33</td>\n",
       "      <td>5.0</td>\n",
       "      <td>F</td>\n",
       "    </tr>\n",
       "    <tr>\n",
       "      <th>5</th>\n",
       "      <td>Lucas</td>\n",
       "      <td>20</td>\n",
       "      <td>1.1</td>\n",
       "      <td>M</td>\n",
       "    </tr>\n",
       "    <tr>\n",
       "      <th>6</th>\n",
       "      <td>Alfred</td>\n",
       "      <td>1</td>\n",
       "      <td>1.0</td>\n",
       "      <td>M</td>\n",
       "    </tr>\n",
       "    <tr>\n",
       "      <th>7</th>\n",
       "      <td>Howard</td>\n",
       "      <td>22</td>\n",
       "      <td>5.0</td>\n",
       "      <td>M</td>\n",
       "    </tr>\n",
       "  </tbody>\n",
       "</table>\n",
       "</div>"
      ],
      "text/plain": [
       "      name  age  grade gender\n",
       "0     Lisa    9    2.0      M\n",
       "1      Ken   80    3.0      F\n",
       "2    Ursus   29    3.3      M\n",
       "3   Carson    2    4.0      M\n",
       "4  Dickens   33    5.0      F\n",
       "5    Lucas   20    1.1      M\n",
       "6   Alfred    1    1.0      M\n",
       "7   Howard   22    5.0      M"
      ]
     },
     "execution_count": 42,
     "metadata": {},
     "output_type": "execute_result"
    }
   ],
   "source": [
    "df.loc[:]        # 选取整个表格，想想为什么？\n",
    "df.loc[:2]       # 选取了前三行，想想和list的索引有何区别？\n",
    "df.loc[:, 'name']# 选取‘name'列所有的数据\n",
    "df.loc[:, 'name':'gender'] # 是否选取了name和gender两列数据？\n"
   ]
  },
  {
   "cell_type": "markdown",
   "metadata": {},
   "source": [
    "以下这条语句：\n",
    "\n",
    "```python\n",
    "df.loc[:, 'name':'gender'] \n",
    "```\n",
    "是选取了从'name'到’gender‘的所有列，而不是只选择了'name'和’gender‘。\n",
    "\n",
    "如何解决```loc```只能连续选取的问题？"
   ]
  },
  {
   "cell_type": "code",
   "execution_count": 43,
   "metadata": {},
   "outputs": [
    {
     "data": {
      "text/html": [
       "<div>\n",
       "<style scoped>\n",
       "    .dataframe tbody tr th:only-of-type {\n",
       "        vertical-align: middle;\n",
       "    }\n",
       "\n",
       "    .dataframe tbody tr th {\n",
       "        vertical-align: top;\n",
       "    }\n",
       "\n",
       "    .dataframe thead th {\n",
       "        text-align: right;\n",
       "    }\n",
       "</style>\n",
       "<table border=\"1\" class=\"dataframe\">\n",
       "  <thead>\n",
       "    <tr style=\"text-align: right;\">\n",
       "      <th></th>\n",
       "      <th>name</th>\n",
       "      <th>gender</th>\n",
       "    </tr>\n",
       "  </thead>\n",
       "  <tbody>\n",
       "    <tr>\n",
       "      <th>0</th>\n",
       "      <td>Lisa</td>\n",
       "      <td>M</td>\n",
       "    </tr>\n",
       "    <tr>\n",
       "      <th>1</th>\n",
       "      <td>Ken</td>\n",
       "      <td>F</td>\n",
       "    </tr>\n",
       "    <tr>\n",
       "      <th>2</th>\n",
       "      <td>Ursus</td>\n",
       "      <td>M</td>\n",
       "    </tr>\n",
       "    <tr>\n",
       "      <th>3</th>\n",
       "      <td>Carson</td>\n",
       "      <td>M</td>\n",
       "    </tr>\n",
       "    <tr>\n",
       "      <th>4</th>\n",
       "      <td>Dickens</td>\n",
       "      <td>F</td>\n",
       "    </tr>\n",
       "    <tr>\n",
       "      <th>5</th>\n",
       "      <td>Lucas</td>\n",
       "      <td>M</td>\n",
       "    </tr>\n",
       "    <tr>\n",
       "      <th>6</th>\n",
       "      <td>Alfred</td>\n",
       "      <td>M</td>\n",
       "    </tr>\n",
       "    <tr>\n",
       "      <th>7</th>\n",
       "      <td>Howard</td>\n",
       "      <td>M</td>\n",
       "    </tr>\n",
       "  </tbody>\n",
       "</table>\n",
       "</div>"
      ],
      "text/plain": [
       "      name gender\n",
       "0     Lisa      M\n",
       "1      Ken      F\n",
       "2    Ursus      M\n",
       "3   Carson      M\n",
       "4  Dickens      F\n",
       "5    Lucas      M\n",
       "6   Alfred      M\n",
       "7   Howard      M"
      ]
     },
     "execution_count": 43,
     "metadata": {},
     "output_type": "execute_result"
    }
   ],
   "source": [
    "pd.DataFrame(df, columns=['name', 'gender'])"
   ]
  },
  {
   "cell_type": "markdown",
   "metadata": {},
   "source": [
    "**pandas总结**：\n",
    "* pandas相当于使用Python操作Excel\n",
    "* 所有Excel的操作都可以在pandas中找到对应操作\n",
    "* 一次课程无法全部讲解，还需同学们自行学习"
   ]
  },
  {
   "cell_type": "markdown",
   "metadata": {},
   "source": [
    "## 3. 数据可视化操作"
   ]
  },
  {
   "cell_type": "markdown",
   "metadata": {},
   "source": [
    "### 3.1. matplotlib库\n",
    "\n",
    "matplotlib是python中常用的图表绘制工具。"
   ]
  },
  {
   "cell_type": "markdown",
   "metadata": {},
   "source": [
    "**绘制简单折线图**：\n",
    "\n",
    "可以直接使用```plt.plot```函数。\n",
    "\n",
    "其中，第一个参数是横轴对应数据，第二个参数是纵轴对应数据。"
   ]
  },
  {
   "cell_type": "code",
   "execution_count": 20,
   "metadata": {},
   "outputs": [
    {
     "data": {
      "text/plain": [
       "[<matplotlib.lines.Line2D at 0x22a833a9070>]"
      ]
     },
     "execution_count": 20,
     "metadata": {},
     "output_type": "execute_result"
    },
    {
     "data": {
      "image/png": "[encoded data removed]",
      "text/plain": [
       "<Figure size 432x288 with 1 Axes>"
      ]
     },
     "metadata": {
      "needs_background": "light"
     },
     "output_type": "display_data"
    }
   ],
   "source": [
    "import matplotlib.pyplot as plt\n",
    "\n",
    "plt.plot(range(2015,2020,1), [11.06, 11.23, 12.31, 13.89, 14.28])"
   ]
  },
  {
   "cell_type": "markdown",
   "metadata": {},
   "source": [
    "猜一猜：这是什么数据？"
   ]
  },
  {
   "cell_type": "code",
   "execution_count": 44,
   "metadata": {},
   "outputs": [
    {
     "data": {
      "text/plain": [
       "[<matplotlib.lines.Line2D at 0x22a84569c70>]"
      ]
     },
     "execution_count": 44,
     "metadata": {},
     "output_type": "execute_result"
    },
    {
     "data": {
      "image/png": "[encoded data removed]",
      "text/plain": [
       "<Figure size 432x288 with 1 Axes>"
      ]
     },
     "metadata": {
      "needs_background": "light"
     },
     "output_type": "display_data"
    }
   ],
   "source": [
    "plt.title(\"GDP of China from 2015 to 2019\")\n",
    "plt.plot(range(2015,2020,1), [11.06, 11.23, 12.31, 13.89, 14.28])"
   ]
  },
  {
   "cell_type": "markdown",
   "metadata": {},
   "source": [
    "使用之前的学生信息表，寻找年龄与成绩的关系："
   ]
  },
  {
   "cell_type": "code",
   "execution_count": 45,
   "metadata": {},
   "outputs": [
    {
     "data": {
      "image/png": "[encoded data removed]",
      "text/plain": [
       "<Figure size 432x288 with 1 Axes>"
      ]
     },
     "metadata": {
      "needs_background": "light"
     },
     "output_type": "display_data"
    }
   ],
   "source": [
    "plt.plot(df['age'], df['grade'])\n",
    "plt.show()"
   ]
  },
  {
   "cell_type": "markdown",
   "metadata": {},
   "source": [
    "为什么是杂乱无章的线段？"
   ]
  },
  {
   "cell_type": "code",
   "execution_count": 46,
   "metadata": {},
   "outputs": [
    {
     "name": "stdout",
     "output_type": "stream",
     "text": [
      "      name  age  grade gender  height\n",
      "6   Alfred    1    1.0      M     0.3\n",
      "3   Carson    2    4.0      M     0.6\n",
      "0     Lisa    9    2.0      M     1.1\n",
      "5    Lucas   20    1.1      M     1.7\n",
      "7   Howard   22    5.0      M     2.0\n",
      "2    Ursus   29    3.3      M     1.6\n",
      "4  Dickens   33    5.0      F     1.9\n",
      "1      Ken   80    3.0      F     1.7\n"
     ]
    },
    {
     "data": {
      "image/png": "[encoded data removed]",
      "text/plain": [
       "<Figure size 432x288 with 1 Axes>"
      ]
     },
     "metadata": {
      "needs_background": "light"
     },
     "output_type": "display_data"
    }
   ],
   "source": [
    "df_age_ascend = df.sort_values(by = 'age', ascending = True)   # 先新建一个表格，这个表格按照年龄升序排列\n",
    "print(df_age_ascend)\n",
    "plt.plot(df_age_ascend['age'], df_age_ascend['grade'])\n",
    "plt.show()"
   ]
  },
  {
   "cell_type": "code",
   "execution_count": null,
   "metadata": {},
   "outputs": [],
   "source": []
  },
  {
   "cell_type": "code",
   "execution_count": null,
   "metadata": {},
   "outputs": [],
   "source": []
  },
  {
   "cell_type": "code",
   "execution_count": null,
   "metadata": {},
   "outputs": [],
   "source": []
  }
 ],
 "metadata": {
  "kernelspec": {
   "display_name": "Python 3 (ipykernel)",
   "language": "python",
   "name": "python3"
  },
  "language_info": {
   "codemirror_mode": {
    "name": "ipython",
    "version": 3
   },
   "file_extension": ".py",
   "mimetype": "text/x-python",
   "name": "python",
   "nbconvert_exporter": "python",
   "pygments_lexer": "ipython3",
   "version": "3.9.9"
  }
 },
 "nbformat": 4,
 "nbformat_minor": 4
}
